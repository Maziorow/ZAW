{
 "cells": [
  {
   "cell_type": "code",
   "execution_count": 1,
   "metadata": {},
   "outputs": [],
   "source": [
    "import numpy as np\n",
    "import cv2"
   ]
  },
  {
   "cell_type": "markdown",
   "metadata": {},
   "source": [
    "## Zadanie 1 (popraw parametry)"
   ]
  },
  {
   "cell_type": "code",
   "execution_count": 2,
   "metadata": {},
   "outputs": [],
   "source": [
    "def median(name, speed, threshold_value, kernel_1, kernel_2, blur):\n",
    "    kernel1 = cv2.getStructuringElement(cv2.MORPH_ELLIPSE,(kernel_1,kernel_1))\n",
    "    kernel2 = np.ones((kernel_2, kernel_2), np.uint8)\n",
    "\n",
    "    iN = 0\n",
    "\n",
    "    TP = 0\n",
    "    TN = 0\n",
    "    FP = 0\n",
    "    FN = 0\n",
    "\n",
    "    f = open(\"{}/temporalROI.txt\".format(name), \"r\")\n",
    "    line = f.readline()\n",
    "    roi_start, roi_end = line.split()\n",
    "    roi_start = int(roi_start)\n",
    "    roi_end = int(roi_end)\n",
    "    f.close()\n",
    "    shape = cv2.imread(\"%s/input/in%06d.jpg\" % (name, roi_start)).shape\n",
    "    BUF = np.zeros((shape[0],shape[1],60),np.uint8)\n",
    "\n",
    "    for i in range(roi_start, roi_end, speed):\n",
    "        I = cv2.imread(\"%s/input/in%06d.jpg\" % (name, i))\n",
    "        I_vis = I\n",
    "        I = cv2.cvtColor(I, cv2.COLOR_BGR2GRAY)\n",
    "\n",
    "        BUF[:,:,iN] = I\n",
    "        iN = iN + 1\n",
    "        if(iN == 60):\n",
    "            iN = 0\n",
    "\n",
    "        I_ref = cv2.imread(\"%s/groundtruth/gt%06d.png\" % (name, i))\n",
    "        I_ref = cv2.cvtColor(I_ref,cv2.COLOR_BGR2GRAY)\n",
    "        cv2.imshow(\"I_ref\",I_ref)\n",
    "\n",
    "        I_back = np.median(BUF, axis=2).astype(np.uint8)\n",
    "        I_diff = cv2.absdiff(I, I_back)\n",
    "\n",
    "        (T,thresh) = cv2.threshold(I_diff,threshold_value,255,cv2.THRESH_BINARY)\n",
    "        thresh = cv2.erode(thresh, kernel1, iterations=1)\n",
    "        thresh = cv2.dilate(thresh, kernel2, iterations=1)\n",
    "        thresh = cv2.medianBlur(thresh, blur)\n",
    "\n",
    "                #Index\n",
    "        retval, labels, stats, centroids = cv2.connectedComponentsWithStats(thresh)\n",
    "        labels = np.uint8(labels / retval * 255)\n",
    "\n",
    "        if(stats.shape[0] > 1):\n",
    "            tab = stats[1: ,4]\n",
    "            pi = np.argmax(tab)\n",
    "            pi = pi + 1\n",
    "            cv2.rectangle(I_vis,(stats[pi,0],stats[pi,1]),(stats[pi,0]+stats[pi,2],stats[pi,1]+stats[pi,3]),(255,0,0),2)\n",
    "            cv2.putText(I_vis, str(stats[pi,4]), (stats[pi,0],stats[pi,1]), cv2.FONT_HERSHEY_SIMPLEX, 0.5, (255,0,0), 2)\n",
    "            cv2.putText(I_vis, str(pi), (int(centroids[pi, 0]),int(centroids[pi, 1])),cv2.FONT_HERSHEY_SIMPLEX, 1, (255,0,0))\n",
    "\n",
    "        TP_M = np.logical_and((thresh == 255),(I_ref == 255))\n",
    "        TP_S = np.sum(TP_M)\n",
    "        TP = TP + TP_S\n",
    "        \n",
    "        FP_M = np.logical_and((thresh == 255),(I_ref == 0))\n",
    "        FP_S = np.sum(FP_M)\n",
    "        FP = FP + FP_S\n",
    "\n",
    "        FN_M = np.logical_and((thresh == 0),(I_ref == 255))\n",
    "        FN_S = np.sum(FN_M)\n",
    "        FN = FN + FN_S\n",
    "\n",
    "        cv2.imshow(\"I\",I_vis)  \n",
    "        cv2.imshow(\"Raw\",thresh)\n",
    "        cv2.waitKey(15)\n",
    "    cv2.destroyAllWindows()\n",
    "\n",
    "    P = TP/(TP+FP)\n",
    "    R = TP/(TP+FN)\n",
    "    F1 = 2*P*R/(P+R)\n",
    "    print(\"Median\")\n",
    "    print(\"P = \", P)\n",
    "    print(\"R = \", R)\n",
    "    print(\"F1 = \", F1)\n",
    "\n",
    "def average(name, speed, threshold_value, kernel_1, kernel_2, blur):\n",
    "    kernel1 = cv2.getStructuringElement(cv2.MORPH_ELLIPSE,(kernel_1,kernel_1))\n",
    "    kernel2 = np.ones((kernel_2, kernel_2), np.uint8)\n",
    "\n",
    "    iN = 0\n",
    "\n",
    "    TP = 0\n",
    "    TN = 0\n",
    "    FP = 0\n",
    "    FN = 0\n",
    "\n",
    "    f = open(\"{}/temporalROI.txt\".format(name), \"r\")\n",
    "    line = f.readline()\n",
    "    roi_start, roi_end = line.split()\n",
    "    roi_start = int(roi_start)\n",
    "    roi_end = int(roi_end)\n",
    "    f.close()\n",
    "    shape = cv2.imread(\"%s/input/in%06d.jpg\" % (name, roi_start)).shape\n",
    "    BUF = np.zeros((shape[0],shape[1],60),np.uint8)\n",
    "\n",
    "    for i in range(roi_start, roi_end, speed):\n",
    "        I = cv2.imread(\"%s/input/in%06d.jpg\" % (name, i))\n",
    "        I_vis = I\n",
    "        I = cv2.cvtColor(I, cv2.COLOR_BGR2GRAY)\n",
    "\n",
    "        BUF[:,:,iN] = I\n",
    "        iN = iN + 1\n",
    "        if(iN == 60):\n",
    "            iN = 0\n",
    "\n",
    "        I_ref = cv2.imread(\"%s/groundtruth/gt%06d.png\" % (name, i))\n",
    "        I_ref = cv2.cvtColor(I_ref,cv2.COLOR_BGR2GRAY)\n",
    "        cv2.imshow(\"I_ref\",I_ref)\n",
    "\n",
    "        I_back = np.average(BUF, axis=2).astype(np.uint8)\n",
    "        I_diff = cv2.absdiff(I, I_back)\n",
    "\n",
    "        (T,thresh) = cv2.threshold(I_diff,threshold_value,255,cv2.THRESH_BINARY)\n",
    "        thresh = cv2.erode(thresh, kernel1, iterations=1)\n",
    "        thresh = cv2.dilate(thresh, kernel2, iterations=1)\n",
    "        thresh = cv2.medianBlur(thresh, blur)\n",
    "\n",
    "                #Index\n",
    "        retval, labels, stats, centroids = cv2.connectedComponentsWithStats(thresh)\n",
    "        labels = np.uint8(labels / retval * 255)\n",
    "\n",
    "        #Rectangle\n",
    "        if(stats.shape[0] > 1):\n",
    "            tab = stats[1: ,4]\n",
    "            pi = np.argmax(tab)\n",
    "            pi = pi + 1\n",
    "            cv2.rectangle(I_vis,(stats[pi,0],stats[pi,1]),(stats[pi,0]+stats[pi,2],stats[pi,1]+stats[pi,3]),(255,0,0),2)\n",
    "            cv2.putText(I_vis, str(stats[pi,4]), (stats[pi,0],stats[pi,1]), cv2.FONT_HERSHEY_SIMPLEX, 0.5, (255,0,0), 2)\n",
    "            cv2.putText(I_vis, str(pi), (int(centroids[pi, 0]),int(centroids[pi, 1])),cv2.FONT_HERSHEY_SIMPLEX, 1, (255,0,0))\n",
    "\n",
    "        TP_M = np.logical_and((thresh == 255),(I_ref == 255))\n",
    "        TP_S = np.sum(TP_M)\n",
    "        TP = TP + TP_S\n",
    "        \n",
    "        FP_M = np.logical_and((thresh == 255),(I_ref == 0))\n",
    "        FP_S = np.sum(FP_M)\n",
    "        FP = FP + FP_S\n",
    "\n",
    "        FN_M = np.logical_and((thresh == 0),(I_ref == 255))\n",
    "        FN_S = np.sum(FN_M)\n",
    "        FN = FN + FN_S\n",
    "\n",
    "        cv2.imshow(\"I\",I_vis)  \n",
    "        cv2.imshow(\"Raw\",thresh)\n",
    "        cv2.waitKey(15)\n",
    "    cv2.destroyAllWindows()\n",
    "\n",
    "    P = TP/(TP+FP)\n",
    "    R = TP/(TP+FN)\n",
    "    F1 = 2*P*R/(P+R)\n",
    "    print(\"Average:\")\n",
    "    print(\"P = \", P)\n",
    "    print(\"R = \", R)\n",
    "    print(\"F1 = \", F1)"
   ]
  },
  {
   "cell_type": "code",
   "execution_count": null,
   "metadata": {},
   "outputs": [
    {
     "name": "stdout",
     "output_type": "stream",
     "text": [
      "Median\n",
      "P =  0.5895435339622598\n",
      "R =  0.4632446879873348\n",
      "F1 =  0.5188183240491713\n",
      "Average:\n",
      "P =  0.40449940769410647\n",
      "R =  0.3857284779819408\n",
      "F1 =  0.39489100220998086\n"
     ]
    }
   ],
   "source": [
    "median(\"highway\", 5, 36, 3, 5, 11)\n",
    "average(\"highway\", 5, 36, 5, 3, 11)"
   ]
  },
  {
   "cell_type": "code",
   "execution_count": 31,
   "metadata": {},
   "outputs": [
    {
     "name": "stdout",
     "output_type": "stream",
     "text": [
      "Median\n",
      "P =  0.3987271033139201\n",
      "R =  0.5311097055875579\n",
      "F1 =  0.45549462534403495\n",
      "Average:\n",
      "P =  0.340482856477874\n",
      "R =  0.6033027412106371\n",
      "F1 =  0.4352985278678191\n"
     ]
    }
   ],
   "source": [
    "median(\"office\", 1, 6, 3, 4, 9)\n",
    "average(\"office\", 1, 6, 3, 4, 9)"
   ]
  },
  {
   "cell_type": "code",
   "execution_count": 6,
   "metadata": {},
   "outputs": [
    {
     "name": "stdout",
     "output_type": "stream",
     "text": [
      "Median\n",
      "P =  0.19938672355132536\n",
      "R =  0.9882494462348441\n",
      "F1 =  0.33182522417055454\n"
     ]
    },
    {
     "ename": "KeyboardInterrupt",
     "evalue": "",
     "output_type": "error",
     "traceback": [
      "\u001b[31m---------------------------------------------------------------------------\u001b[39m",
      "\u001b[31mKeyboardInterrupt\u001b[39m                         Traceback (most recent call last)",
      "\u001b[36mCell\u001b[39m\u001b[36m \u001b[39m\u001b[32mIn[6]\u001b[39m\u001b[32m, line 2\u001b[39m\n\u001b[32m      1\u001b[39m median(\u001b[33m\"\u001b[39m\u001b[33mpedestrian\u001b[39m\u001b[33m\"\u001b[39m, \u001b[32m1\u001b[39m, \u001b[32m16\u001b[39m, \u001b[32m3\u001b[39m, \u001b[32m4\u001b[39m, \u001b[32m11\u001b[39m)\n\u001b[32m----> \u001b[39m\u001b[32m2\u001b[39m \u001b[43maverage\u001b[49m\u001b[43m(\u001b[49m\u001b[33;43m\"\u001b[39;49m\u001b[33;43mpedestrian\u001b[39;49m\u001b[33;43m\"\u001b[39;49m\u001b[43m,\u001b[49m\u001b[43m \u001b[49m\u001b[32;43m1\u001b[39;49m\u001b[43m,\u001b[49m\u001b[43m \u001b[49m\u001b[32;43m16\u001b[39;49m\u001b[43m,\u001b[49m\u001b[43m \u001b[49m\u001b[32;43m3\u001b[39;49m\u001b[43m,\u001b[49m\u001b[43m \u001b[49m\u001b[32;43m4\u001b[39;49m\u001b[43m,\u001b[49m\u001b[43m \u001b[49m\u001b[32;43m11\u001b[39;49m\u001b[43m)\u001b[49m\n",
      "\u001b[36mCell\u001b[39m\u001b[36m \u001b[39m\u001b[32mIn[2]\u001b[39m\u001b[32m, line 120\u001b[39m, in \u001b[36maverage\u001b[39m\u001b[34m(name, speed, threshold_value, kernel_1, kernel_2, blur)\u001b[39m\n\u001b[32m    118\u001b[39m thresh = cv2.erode(thresh, kernel1, iterations=\u001b[32m1\u001b[39m)\n\u001b[32m    119\u001b[39m thresh = cv2.dilate(thresh, kernel2, iterations=\u001b[32m1\u001b[39m)\n\u001b[32m--> \u001b[39m\u001b[32m120\u001b[39m thresh = \u001b[43mcv2\u001b[49m\u001b[43m.\u001b[49m\u001b[43mmedianBlur\u001b[49m\u001b[43m(\u001b[49m\u001b[43mthresh\u001b[49m\u001b[43m,\u001b[49m\u001b[43m \u001b[49m\u001b[43mblur\u001b[49m\u001b[43m)\u001b[49m\n\u001b[32m    122\u001b[39m         \u001b[38;5;66;03m#Index\u001b[39;00m\n\u001b[32m    123\u001b[39m retval, labels, stats, centroids = cv2.connectedComponentsWithStats(thresh)\n",
      "\u001b[31mKeyboardInterrupt\u001b[39m: "
     ]
    }
   ],
   "source": [
    "median(\"pedestrian\", 1, 16, 3, 4, 11)\n",
    "average(\"pedestrian\", 1, 16, 3, 4, 11)"
   ]
  },
  {
   "cell_type": "markdown",
   "metadata": {},
   "source": [
    "## Zadanie 2"
   ]
  },
  {
   "cell_type": "code",
   "execution_count": 7,
   "metadata": {},
   "outputs": [],
   "source": [
    "def median_nonbuf(name, speed, threshold_value, kernel_1, kernel_2, blur):\n",
    "    kernel1 = cv2.getStructuringElement(cv2.MORPH_ELLIPSE,(kernel_1,kernel_1))\n",
    "    kernel2 = np.ones((kernel_2, kernel_2), np.uint8)\n",
    "\n",
    "    iN = 0\n",
    "\n",
    "    TP = 0\n",
    "    TN = 0\n",
    "    FP = 0\n",
    "    FN = 0\n",
    "\n",
    "    f = open(\"{}/temporalROI.txt\".format(name), \"r\")\n",
    "    line = f.readline()\n",
    "    roi_start, roi_end = line.split()\n",
    "    roi_start = int(roi_start)\n",
    "    roi_end = int(roi_end)\n",
    "    f.close()\n",
    "    I = cv2.imread(\"%s/input/in%06d.jpg\" % (name, roi_start))\n",
    "    I = cv2.cvtColor(I, cv2.COLOR_BGR2GRAY)\n",
    "\n",
    "    I_2 = cv2.imread(\"%s/input/in%06d.jpg\" % (name, roi_start+10))\n",
    "    I_2 = cv2.cvtColor(I_2, cv2.COLOR_BGR2GRAY)\n",
    "\n",
    "    I_diff = cv2.absdiff(I,I_2)\n",
    "    B = cv2.threshold(I_diff,threshold_value,255,cv2.THRESH_BINARY)\n",
    "    B = B[1]\n",
    "    mask = I_2\n",
    "\n",
    "    for i in range(roi_start+2, roi_end, speed):\n",
    "        I = cv2.imread(\"%s/input/in%06d.jpg\" % (name, i))\n",
    "        I_vis = I\n",
    "        I = cv2.cvtColor(I, cv2.COLOR_BGR2GRAY)\n",
    "\n",
    "        I_ref = cv2.imread(\"%s/groundtruth/gt%06d.png\" % (name, i))\n",
    "        I_ref = cv2.cvtColor(I_ref,cv2.COLOR_BGR2GRAY)\n",
    "        cv2.imshow(\"I_ref\",I_ref)\n",
    "\n",
    "        #mask = np.where((mask == I), mask, np.where((mask < I), mask + 1, np.where(mask > I, mask-1, mask))) #Liberalne\n",
    "        mask = np.where(B == 255, np.where((mask == I), mask,\n",
    "                   np.where((mask < I), mask + 1, mask - 1)), mask)\n",
    "        I_diff = cv2.absdiff(I, mask)\n",
    "\n",
    "        (T,thresh) = cv2.threshold(I_diff,threshold_value,255,cv2.THRESH_BINARY)\n",
    "        B = thresh\n",
    "        thresh = cv2.erode(thresh, kernel1, iterations=1)\n",
    "        thresh = cv2.dilate(thresh, kernel2, iterations=1)\n",
    "        thresh = cv2.medianBlur(thresh, blur)\n",
    "\n",
    "                #Index\n",
    "        retval, labels, stats, centroids = cv2.connectedComponentsWithStats(thresh)\n",
    "        labels = np.uint8(labels / retval * 255)\n",
    "\n",
    "        if(stats.shape[0] > 1):\n",
    "            tab = stats[1: ,4]\n",
    "            pi = np.argmax(tab)\n",
    "            pi = pi + 1\n",
    "            cv2.rectangle(I_vis,(stats[pi,0],stats[pi,1]),(stats[pi,0]+stats[pi,2],stats[pi,1]+stats[pi,3]),(255,0,0),2)\n",
    "            cv2.putText(I_vis, str(stats[pi,4]), (stats[pi,0],stats[pi,1]), cv2.FONT_HERSHEY_SIMPLEX, 0.5, (255,0,0), 2)\n",
    "            cv2.putText(I_vis, str(pi), (int(centroids[pi, 0]),int(centroids[pi, 1])),cv2.FONT_HERSHEY_SIMPLEX, 1, (255,0,0))\n",
    "\n",
    "        TP_M = np.logical_and((thresh == 255),(I_ref == 255))\n",
    "        TP_S = np.sum(TP_M)\n",
    "        TP = TP + TP_S\n",
    "        \n",
    "        FP_M = np.logical_and((thresh == 255),(I_ref == 0))\n",
    "        FP_S = np.sum(FP_M)\n",
    "        FP = FP + FP_S\n",
    "\n",
    "        FN_M = np.logical_and((thresh == 0),(I_ref == 255))\n",
    "        FN_S = np.sum(FN_M)\n",
    "        FN = FN + FN_S\n",
    "\n",
    "        cv2.imshow(\"I\",I_vis)  \n",
    "        cv2.imshow(\"Raw\",thresh)\n",
    "        cv2.waitKey(15)\n",
    "    cv2.destroyAllWindows()\n",
    "\n",
    "    P = TP/(TP+FP)\n",
    "    R = TP/(TP+FN)\n",
    "    F1 = 2*P*R/(P+R)\n",
    "    print(\"Non-buffered median:\")\n",
    "    print(\"P = \", P)\n",
    "    print(\"R = \", R)\n",
    "    print(\"F1 = \", F1)\n",
    "\n",
    "def average_nonbuf(name, speed, threshold_value, kernel_1, kernel_2, blur, alpha):\n",
    "    kernel1 = cv2.getStructuringElement(cv2.MORPH_ELLIPSE,(kernel_1,kernel_1))\n",
    "    kernel2 = np.ones((kernel_2, kernel_2), np.uint8)\n",
    "\n",
    "    iN = 0\n",
    "\n",
    "    TP = 0\n",
    "    TN = 0\n",
    "    FP = 0\n",
    "    FN = 0\n",
    "\n",
    "    f = open(\"{}/temporalROI.txt\".format(name), \"r\")\n",
    "    line = f.readline()\n",
    "    roi_start, roi_end = line.split()\n",
    "    roi_start = int(roi_start)\n",
    "    roi_end = int(roi_end)\n",
    "    mask = cv2.imread(\"%s/input/in%06d.jpg\" % (name, roi_start))\n",
    "    mask = cv2.cvtColor(mask, cv2.COLOR_BGR2GRAY).astype(np.float64)\n",
    "    f.close()\n",
    "\n",
    "    for i in range(roi_start, roi_end, speed):\n",
    "        I = cv2.imread(\"%s/input/in%06d.jpg\" % (name, i))\n",
    "        I_vis = I\n",
    "        I = cv2.cvtColor(I, cv2.COLOR_BGR2GRAY)\n",
    "\n",
    "        I_ref = cv2.imread(\"%s/groundtruth/gt%06d.png\" % (name, i))\n",
    "        I_ref = cv2.cvtColor(I_ref,cv2.COLOR_BGR2GRAY)\n",
    "        cv2.imshow(\"I_ref\",I_ref)\n",
    "\n",
    "        mask = (alpha*I + (1-alpha)*mask).astype(np.float64)\n",
    "        I_diff = cv2.absdiff(I, mask.astype(np.uint8))\n",
    "\n",
    "        (T,thresh) = cv2.threshold(I_diff,threshold_value,255,cv2.THRESH_BINARY)\n",
    "        thresh = cv2.erode(thresh, kernel1, iterations=1)\n",
    "        thresh = cv2.dilate(thresh, kernel2, iterations=1)\n",
    "        thresh = cv2.medianBlur(thresh, blur)\n",
    "\n",
    "                #Index\n",
    "        retval, labels, stats, centroids = cv2.connectedComponentsWithStats(thresh)\n",
    "        labels = np.uint8(labels / retval * 255)\n",
    "\n",
    "        #Rectangle\n",
    "        if(stats.shape[0] > 1):\n",
    "            tab = stats[1: ,4]\n",
    "            pi = np.argmax(tab)\n",
    "            pi = pi + 1\n",
    "            cv2.rectangle(I_vis,(stats[pi,0],stats[pi,1]),(stats[pi,0]+stats[pi,2],stats[pi,1]+stats[pi,3]),(255,0,0),2)\n",
    "            cv2.putText(I_vis, str(stats[pi,4]), (stats[pi,0],stats[pi,1]), cv2.FONT_HERSHEY_SIMPLEX, 0.5, (255,0,0), 2)\n",
    "            cv2.putText(I_vis, str(pi), (int(centroids[pi, 0]),int(centroids[pi, 1])),cv2.FONT_HERSHEY_SIMPLEX, 1, (255,0,0))\n",
    "\n",
    "        TP_M = np.logical_and((thresh == 255),(I_ref == 255))\n",
    "        TP_S = np.sum(TP_M)\n",
    "        TP = TP + TP_S\n",
    "        \n",
    "        FP_M = np.logical_and((thresh == 255),(I_ref == 0))\n",
    "        FP_S = np.sum(FP_M)\n",
    "        FP = FP + FP_S\n",
    "\n",
    "        FN_M = np.logical_and((thresh == 0),(I_ref == 255))\n",
    "        FN_S = np.sum(FN_M)\n",
    "        FN = FN + FN_S\n",
    "\n",
    "        cv2.imshow(\"I\",I_vis)  \n",
    "        cv2.imshow(\"Raw\",thresh)\n",
    "        cv2.waitKey(15)\n",
    "    cv2.destroyAllWindows()\n",
    "\n",
    "    P = TP/(TP+FP)\n",
    "    R = TP/(TP+FN)\n",
    "    F1 = 2*P*R/(P+R)\n",
    "    print(\"Non-buffered Average:\")\n",
    "    print(\"P = \", P)\n",
    "    print(\"R = \", R)\n",
    "    print(\"F1 = \", F1)"
   ]
  },
  {
   "cell_type": "code",
   "execution_count": 4,
   "metadata": {},
   "outputs": [
    {
     "name": "stdout",
     "output_type": "stream",
     "text": [
      "Non-buffered median:\n",
      "P =  0.9676126347454531\n",
      "R =  0.9155207764056029\n",
      "F1 =  0.9408462144809431\n"
     ]
    }
   ],
   "source": [
    "median_nonbuf(\"highway\", 5, 36, 3, 5, 9)"
   ]
  },
  {
   "cell_type": "code",
   "execution_count": 12,
   "metadata": {},
   "outputs": [
    {
     "name": "stdout",
     "output_type": "stream",
     "text": [
      "Non-buffered Average:\n",
      "P =  0.932500505161182\n",
      "R =  0.602385970976018\n",
      "F1 =  0.7319436726692932\n"
     ]
    }
   ],
   "source": [
    "average_nonbuf(\"highway\", 5, 36, 5, 5, 9, 0.05)"
   ]
  },
  {
   "cell_type": "code",
   "execution_count": 5,
   "metadata": {},
   "outputs": [
    {
     "name": "stdout",
     "output_type": "stream",
     "text": [
      "Non-buffered median:\n",
      "P =  0.4397240901874838\n",
      "R =  0.8422772760118742\n",
      "F1 =  0.5777990860928912\n",
      "Non-buffered Average:\n",
      "P =  0.3487055514795794\n",
      "R =  0.8251625750663639\n",
      "F1 =  0.4902403673664525\n"
     ]
    }
   ],
   "source": [
    "median_nonbuf(\"office\", 5, 6, 3, 4, 9)\n",
    "average_nonbuf(\"office\", 5, 6, 3, 4, 9, 0.05)"
   ]
  },
  {
   "cell_type": "code",
   "execution_count": 10,
   "metadata": {},
   "outputs": [
    {
     "name": "stdout",
     "output_type": "stream",
     "text": [
      "Non-buffered median:\n",
      "P =  0.730754176316542\n",
      "R =  0.971237005524236\n",
      "F1 =  0.8340060812916761\n",
      "Non-buffered Average:\n",
      "P =  0.3248096193184454\n",
      "R =  0.9706586451460956\n",
      "F1 =  0.4867417808160301\n"
     ]
    }
   ],
   "source": [
    "median_nonbuf(\"pedestrian\", 1, 16, 3, 4, 15)\n",
    "average_nonbuf(\"pedestrian\", 1, 16, 3, 4, 15, 0.05)"
   ]
  },
  {
   "cell_type": "markdown",
   "metadata": {},
   "source": [
    "## Zadanie 4"
   ]
  },
  {
   "cell_type": "code",
   "execution_count": 11,
   "metadata": {},
   "outputs": [],
   "source": [
    "def mog(name, speed, threshold_value, kernel_1, kernel_2, blur):\n",
    "    mog = cv2.createBackgroundSubtractorMOG2(history=100, varThreshold=36, detectShadows=True)\n",
    "    kernel1 = cv2.getStructuringElement(cv2.MORPH_ELLIPSE,(kernel_1,kernel_1))\n",
    "    kernel2 = np.ones((kernel_2, kernel_2), np.uint8)\n",
    "\n",
    "    iN = 0\n",
    "\n",
    "    TP = 0\n",
    "    TN = 0\n",
    "    FP = 0\n",
    "    FN = 0\n",
    "\n",
    "    f = open(\"{}/temporalROI.txt\".format(name), \"r\")\n",
    "    line = f.readline()\n",
    "    roi_start, roi_end = line.split()\n",
    "    roi_start = int(roi_start)\n",
    "    roi_end = int(roi_end)\n",
    "    mask = cv2.imread(\"%s/input/in%06d.jpg\" % (name, roi_start))\n",
    "    mask = cv2.cvtColor(mask, cv2.COLOR_BGR2GRAY).astype(np.float64)\n",
    "    f.close()\n",
    "\n",
    "    for i in range(roi_start, roi_end, speed):\n",
    "        I = cv2.imread(\"%s/input/in%06d.jpg\" % (name, i))\n",
    "        I_vis = I\n",
    "        I = cv2.cvtColor(I, cv2.COLOR_BGR2GRAY)\n",
    "\n",
    "        I_ref = cv2.imread(\"%s/groundtruth/gt%06d.png\" % (name, i))\n",
    "        I_ref = cv2.cvtColor(I_ref,cv2.COLOR_BGR2GRAY)\n",
    "        cv2.imshow(\"I_ref\",I_ref)\n",
    "\n",
    "        mask = mog.apply(I)\n",
    "\n",
    "        (T,thresh) = cv2.threshold(mask,threshold_value,255,cv2.THRESH_BINARY)\n",
    "        thresh = cv2.erode(thresh, kernel1, iterations=1)\n",
    "        thresh = cv2.dilate(thresh, kernel2, iterations=1)\n",
    "        thresh = cv2.medianBlur(thresh, blur)\n",
    "\n",
    "                #Index\n",
    "        retval, labels, stats, centroids = cv2.connectedComponentsWithStats(thresh)\n",
    "        labels = np.uint8(labels / retval * 255)\n",
    "\n",
    "        #Rectangle\n",
    "        if(stats.shape[0] > 1):\n",
    "            tab = stats[1: ,4]\n",
    "            pi = np.argmax(tab)\n",
    "            pi = pi + 1\n",
    "            cv2.rectangle(I_vis,(stats[pi,0],stats[pi,1]),(stats[pi,0]+stats[pi,2],stats[pi,1]+stats[pi,3]),(255,0,0),2)\n",
    "            cv2.putText(I_vis, str(stats[pi,4]), (stats[pi,0],stats[pi,1]), cv2.FONT_HERSHEY_SIMPLEX, 0.5, (255,0,0), 2)\n",
    "            cv2.putText(I_vis, str(pi), (int(centroids[pi, 0]),int(centroids[pi, 1])),cv2.FONT_HERSHEY_SIMPLEX, 1, (255,0,0))\n",
    "\n",
    "        TP_M = np.logical_and((thresh == 255),(I_ref == 255))\n",
    "        TP_S = np.sum(TP_M)\n",
    "        TP = TP + TP_S\n",
    "        \n",
    "        FP_M = np.logical_and((thresh == 255),(I_ref == 0))\n",
    "        FP_S = np.sum(FP_M)\n",
    "        FP = FP + FP_S\n",
    "\n",
    "        FN_M = np.logical_and((thresh == 0),(I_ref == 255))\n",
    "        FN_S = np.sum(FN_M)\n",
    "        FN = FN + FN_S\n",
    "\n",
    "        cv2.imshow(\"I\",I_vis)  \n",
    "        cv2.imshow(\"Raw\",thresh)\n",
    "        cv2.waitKey(15)\n",
    "    cv2.destroyAllWindows()\n",
    "\n",
    "    P = TP/(TP+FP)\n",
    "    R = TP/(TP+FN)\n",
    "    F1 = 2*P*R/(P+R)\n",
    "    print(\"Non-buffered Average:\")\n",
    "    print(\"P = \", P)\n",
    "    print(\"R = \", R)\n",
    "    print(\"F1 = \", F1)"
   ]
  },
  {
   "cell_type": "code",
   "execution_count": 46,
   "metadata": {},
   "outputs": [
    {
     "name": "stdout",
     "output_type": "stream",
     "text": [
      "Non-buffered Average:\n",
      "P =  0.9164095840272961\n",
      "R =  0.8320232677212763\n",
      "F1 =  0.8721800164197916\n"
     ]
    }
   ],
   "source": [
    "mog(\"highway\", 5, 36, 3, 4, 11)"
   ]
  },
  {
   "cell_type": "code",
   "execution_count": 47,
   "metadata": {},
   "outputs": [
    {
     "name": "stdout",
     "output_type": "stream",
     "text": [
      "Non-buffered Average:\n",
      "P =  0.5911209256162017\n",
      "R =  0.0996093105729205\n",
      "F1 =  0.17048956243964045\n"
     ]
    }
   ],
   "source": [
    "mog(\"office\", 5, 6, 3, 4, 9)"
   ]
  },
  {
   "cell_type": "code",
   "execution_count": 12,
   "metadata": {},
   "outputs": [
    {
     "name": "stdout",
     "output_type": "stream",
     "text": [
      "Non-buffered Average:\n",
      "P =  0.5514579795996613\n",
      "R =  0.9795759521617758\n",
      "F1 =  0.7056603570138503\n"
     ]
    }
   ],
   "source": [
    "mog(\"pedestrian\", 5, 16, 3, 4, 11)"
   ]
  },
  {
   "cell_type": "markdown",
   "metadata": {},
   "source": [
    "## Zadanie 5"
   ]
  },
  {
   "cell_type": "code",
   "execution_count": 13,
   "metadata": {},
   "outputs": [],
   "source": [
    "def knn(name, speed, threshold_value, kernel_1, kernel_2, blur):\n",
    "    knn = cv2.createBackgroundSubtractorKNN(history=100, detectShadows=True)\n",
    "    kernel1 = cv2.getStructuringElement(cv2.MORPH_ELLIPSE,(kernel_1,kernel_1))\n",
    "    kernel2 = np.ones((kernel_2, kernel_2), np.uint8)\n",
    "\n",
    "    iN = 0\n",
    "\n",
    "    TP = 0\n",
    "    TN = 0\n",
    "    FP = 0\n",
    "    FN = 0\n",
    "\n",
    "    f = open(\"{}/temporalROI.txt\".format(name), \"r\")\n",
    "    line = f.readline()\n",
    "    roi_start, roi_end = line.split()\n",
    "    roi_start = int(roi_start)\n",
    "    roi_end = int(roi_end)\n",
    "    mask = cv2.imread(\"%s/input/in%06d.jpg\" % (name, roi_start))\n",
    "    mask = cv2.cvtColor(mask, cv2.COLOR_BGR2GRAY).astype(np.float64)\n",
    "    f.close()\n",
    "\n",
    "    for i in range(roi_start, roi_end, speed):\n",
    "        I = cv2.imread(\"%s/input/in%06d.jpg\" % (name, i))\n",
    "        I_vis = I\n",
    "        I = cv2.cvtColor(I, cv2.COLOR_BGR2GRAY)\n",
    "\n",
    "        I_ref = cv2.imread(\"%s/groundtruth/gt%06d.png\" % (name, i))\n",
    "        I_ref = cv2.cvtColor(I_ref,cv2.COLOR_BGR2GRAY)\n",
    "        cv2.imshow(\"I_ref\",I_ref)\n",
    "\n",
    "        mask = knn.apply(I)\n",
    "\n",
    "        (T,thresh) = cv2.threshold(mask,threshold_value,255,cv2.THRESH_BINARY)\n",
    "        thresh = cv2.erode(thresh, kernel1, iterations=1)\n",
    "        thresh = cv2.dilate(thresh, kernel2, iterations=1)\n",
    "        thresh = cv2.medianBlur(thresh, blur)\n",
    "\n",
    "                #Index\n",
    "        retval, labels, stats, centroids = cv2.connectedComponentsWithStats(thresh)\n",
    "        labels = np.uint8(labels / retval * 255)\n",
    "\n",
    "        #Rectangle\n",
    "        if(stats.shape[0] > 1):\n",
    "            tab = stats[1: ,4]\n",
    "            pi = np.argmax(tab)\n",
    "            pi = pi + 1\n",
    "            cv2.rectangle(I_vis,(stats[pi,0],stats[pi,1]),(stats[pi,0]+stats[pi,2],stats[pi,1]+stats[pi,3]),(255,0,0),2)\n",
    "            cv2.putText(I_vis, str(stats[pi,4]), (stats[pi,0],stats[pi,1]), cv2.FONT_HERSHEY_SIMPLEX, 0.5, (255,0,0), 2)\n",
    "            cv2.putText(I_vis, str(pi), (int(centroids[pi, 0]),int(centroids[pi, 1])),cv2.FONT_HERSHEY_SIMPLEX, 1, (255,0,0))\n",
    "\n",
    "        TP_M = np.logical_and((thresh == 255),(I_ref == 255))\n",
    "        TP_S = np.sum(TP_M)\n",
    "        TP = TP + TP_S\n",
    "        \n",
    "        FP_M = np.logical_and((thresh == 255),(I_ref == 0))\n",
    "        FP_S = np.sum(FP_M)\n",
    "        FP = FP + FP_S\n",
    "\n",
    "        FN_M = np.logical_and((thresh == 0),(I_ref == 255))\n",
    "        FN_S = np.sum(FN_M)\n",
    "        FN = FN + FN_S\n",
    "\n",
    "        cv2.imshow(\"I\",I_vis)  \n",
    "        cv2.imshow(\"Raw\",thresh)\n",
    "        cv2.waitKey(15)\n",
    "    cv2.destroyAllWindows()\n",
    "\n",
    "    P = TP/(TP+FP)\n",
    "    R = TP/(TP+FN)\n",
    "    F1 = 2*P*R/(P+R)\n",
    "    print(\"Non-buffered Average:\")\n",
    "    print(\"P = \", P)\n",
    "    print(\"R = \", R)\n",
    "    print(\"F1 = \", F1)"
   ]
  },
  {
   "cell_type": "code",
   "execution_count": 6,
   "metadata": {},
   "outputs": [
    {
     "name": "stdout",
     "output_type": "stream",
     "text": [
      "Non-buffered Average:\n",
      "P =  0.7671706318350323\n",
      "R =  0.9441251118021728\n",
      "F1 =  0.8464989891380763\n"
     ]
    }
   ],
   "source": [
    "knn(\"highway\", 5, 36, 3, 4, 11)"
   ]
  },
  {
   "cell_type": "code",
   "execution_count": 7,
   "metadata": {},
   "outputs": [
    {
     "name": "stdout",
     "output_type": "stream",
     "text": [
      "Non-buffered Average:\n",
      "P =  0.525060380662792\n",
      "R =  0.25262634615974455\n",
      "F1 =  0.3411247251757566\n"
     ]
    }
   ],
   "source": [
    "knn(\"office\", 5, 6, 3, 4, 9)"
   ]
  },
  {
   "cell_type": "code",
   "execution_count": 14,
   "metadata": {},
   "outputs": [
    {
     "name": "stdout",
     "output_type": "stream",
     "text": [
      "Non-buffered Average:\n",
      "P =  0.2689272124582045\n",
      "R =  0.9769490409154524\n",
      "F1 =  0.42175646509944814\n"
     ]
    }
   ],
   "source": [
    "knn(\"pedestrian\", 5, 16, 3, 4, 11)"
   ]
  }
 ],
 "metadata": {
  "kernelspec": {
   "display_name": "mlvenv",
   "language": "python",
   "name": "python3"
  },
  "language_info": {
   "codemirror_mode": {
    "name": "ipython",
    "version": 3
   },
   "file_extension": ".py",
   "mimetype": "text/x-python",
   "name": "python",
   "nbconvert_exporter": "python",
   "pygments_lexer": "ipython3",
   "version": "3.12.3"
  }
 },
 "nbformat": 4,
 "nbformat_minor": 2
}
