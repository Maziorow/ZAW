{
 "cells": [
  {
   "cell_type": "markdown",
   "metadata": {},
   "source": [
    "## Zadanie 1"
   ]
  },
  {
   "cell_type": "code",
   "execution_count": 1,
   "metadata": {},
   "outputs": [],
   "source": [
    "import cv2\n",
    "import numpy as np"
   ]
  },
  {
   "cell_type": "code",
   "execution_count": null,
   "metadata": {},
   "outputs": [],
   "source": [
    "def of(I_org, I, J, W2=3, dY=3, dX=3):\n",
    "    I = cv2.cvtColor(I, cv2.COLOR_BGR2GRAY)\n",
    "    J = cv2.cvtColor(J, cv2.COLOR_BGR2GRAY)\n",
    "    cv2.imshow('I',I)\n",
    "    cv2.imshow('J',J)\n",
    "    diff = cv2.absdiff(I,J)\n",
    "    cv2.imshow('diff',diff)\n",
    "    cv2.waitKey(1000)\n",
    "    cv2.destroyAllWindows()\n",
    "\n",
    "    (Y,X) = I.shape\n",
    "    u,v = np.zeros((Y,X)), np.zeros((Y,X))\n",
    "\n",
    "    for j in range(W2,Y-W2):\n",
    "        for i in range(W2,X-W2):\n",
    "            I0 = np.float32(I[j-W2:j+W2+1,i-W2:i+W2+1])\n",
    "            min_dist = float(\"inf\")\n",
    "            best_dx, best_dy = 0, 0\n",
    "            for y in range(-dy,dy+1):\n",
    "                for x in range(-dx,dx+1):\n",
    "                    if (j + y - W2 >= 0) and (j + y + W2 < Y) and (i + x - W2 >= 0) and (i + x + W2 < X):\n",
    "                        J0 = np.float32(J[j+y-W2:j+y+W2+1,i+x-W2:i+x+W2+1])\n",
    "                        dist = np.sqrt(np.sum(np.square(J0 - I0)))\n",
    "                        if dist < min_dist:\n",
    "                            min_dist = dist\n",
    "                            best_dx, best_dy = x, y\n",
    "            u[j,i] = best_dx\n",
    "            v[j,i] = best_dy\n",
    "\n",
    "    return u,v\n",
    "\n",
    "def vis_flow(u, v, YX, name):\n",
    "    mag, ang = cv2.cartToPolar(u, v)\n",
    "    hsv = np.zeros((u.shape[0], u.shape[1], 3), dtype=np.uint8)\n",
    "    hsv[..., 0] = ang * 90 / np.pi\n",
    "    hsv[..., 1] = cv2.normalize(mag, None, 0, 255, cv2.NORM_MINMAX)\n",
    "    hsv[..., 2] = 255\n",
    "    flow_rgb = cv2.cvtColor(hsv, cv2.COLOR_HSV2BGR)\n",
    "    cv2.imwrite('cm_output.png',flow_rgb)\n",
    "    cv2.imshow(\"Optical Flow\", flow_rgb)\n",
    "    cv2.waitKey(3000)\n",
    "    cv2.destroyAllWindows()\n",
    "\n",
    "\n",
    "I = cv2.imread('cm1.png')\n",
    "I = cv2.resize(I,(0,0), fx=0.5, fy=0.5)\n",
    "I = cv2.cvtColor(I,cv2.COLOR_BGR2GRAY)\n",
    "J = cv2.imread('cm2.png')\n",
    "J = cv2.resize(J,(0,0), fx=0.5, fy=0.5)\n",
    "J = cv2.cvtColor(J,cv2.COLOR_BGR2GRAY)\n",
    "cv2.imshow('I',I)\n",
    "cv2.imshow('J',J)\n",
    "diff = cv2.absdiff(I,J)\n",
    "cv2.imshow('diff',diff)\n",
    "cv2.waitKey(3000)\n",
    "cv2.destroyAllWindows()\n",
    "\n",
    "(Y,X) = I.shape\n",
    "u,v = np.zeros((Y,X)), np.zeros((Y,X))\n",
    "W2 = 5\n",
    "dx = 5\n",
    "dy = 5\n",
    "\n",
    "for j in range(W2,Y-W2):\n",
    "    for i in range(W2,X-W2):\n",
    "        I0 = np.float32(I[j-W2:j+W2+1,i-W2:i+W2+1])\n",
    "        min_dist = float(\"inf\")\n",
    "        best_dx, best_dy = 0, 0\n",
    "        for y in range(-dy,dy+1):\n",
    "            for x in range(-dx,dx+1):\n",
    "                if (j + y - W2 >= 0) and (j + y + W2 < Y) and (i + x - W2 >= 0) and (i + x + W2 < X):\n",
    "                    J0 = np.float32(J[j+y-W2:j+y+W2+1,i+x-W2:i+x+W2+1])\n",
    "                    dist = np.sqrt(np.sum(np.square(J0 - I0)))\n",
    "                    if dist < min_dist:\n",
    "                        min_dist = dist\n",
    "                        best_dx, best_dy = x, y\n",
    "        u[j,i] = best_dx\n",
    "        v[j,i] = best_dy\n",
    "\n",
    "mag, ang = cv2.cartToPolar(u, v)\n",
    "hsv = np.zeros((u.shape[0], u.shape[1], 3), dtype=np.uint8)\n",
    "hsv[..., 0] = ang * 90 / np.pi\n",
    "hsv[..., 1] = cv2.normalize(mag, None, 0, 255, cv2.NORM_MINMAX)\n",
    "hsv[..., 2] = 255\n",
    "flow_rgb = cv2.cvtColor(hsv, cv2.COLOR_HSV2BGR)\n",
    "cv2.imwrite('cm_output.png',flow_rgb)\n",
    "cv2.imshow(\"Optical Flow\", flow_rgb)\n",
    "cv2.waitKey(3000)\n",
    "cv2.destroyAllWindows()"
   ]
  },
  {
   "cell_type": "markdown",
   "metadata": {},
   "source": [
    "## Zadanie 2"
   ]
  },
  {
   "cell_type": "code",
   "execution_count": 35,
   "metadata": {},
   "outputs": [],
   "source": [
    "def pyramid(im, max_size):\n",
    "    images = [im]\n",
    "    for k in range(1, max_size):\n",
    "        images.append(cv2.resize(images[k-1],(0,0), fx=0.5, fy=0.5))\n",
    "    for k in range(0, max_size):\n",
    "        images[k] = cv2.cvtColor(images[k], cv2.COLOR_BGR2GRAY)\n",
    "    return images\n",
    "\n",
    "def multilayer_of(I_path, J_path):\n",
    "    I = cv2.imread(I_path)\n",
    "    I_pyramid = pyramid(I, 3)\n",
    "\n",
    "    J = cv2.imread(J_path)\n",
    "    J_pyramid = pyramid(J, 3)"
   ]
  },
  {
   "cell_type": "code",
   "execution_count": 34,
   "metadata": {},
   "outputs": [],
   "source": [
    "multilayer_of(\"cm1.png\",\"cm2.png\")"
   ]
  },
  {
   "cell_type": "code",
   "execution_count": null,
   "metadata": {},
   "outputs": [],
   "source": []
  }
 ],
 "metadata": {
  "kernelspec": {
   "display_name": "mlvenv",
   "language": "python",
   "name": "python3"
  },
  "language_info": {
   "codemirror_mode": {
    "name": "ipython",
    "version": 3
   },
   "file_extension": ".py",
   "mimetype": "text/x-python",
   "name": "python",
   "nbconvert_exporter": "python",
   "pygments_lexer": "ipython3",
   "version": "3.12.3"
  }
 },
 "nbformat": 4,
 "nbformat_minor": 2
}
