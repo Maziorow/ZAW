{
 "cells": [
  {
   "cell_type": "markdown",
   "metadata": {},
   "source": [
    "## Zadanie 2.1"
   ]
  },
  {
   "cell_type": "code",
   "execution_count": 2,
   "metadata": {},
   "outputs": [],
   "source": [
    "import cv2\n",
    "import numpy as np"
   ]
  },
  {
   "cell_type": "code",
   "execution_count": 3,
   "metadata": {},
   "outputs": [],
   "source": [
    "def zadanie2(name, speed, threshold_value, kernel_1, kernel_2, blur):    \n",
    "    kernel1 = cv2.getStructuringElement(cv2.MORPH_ELLIPSE,(kernel_1,kernel_1))\n",
    "    kernel2 = np.ones((kernel_2, kernel_2), np.uint8)\n",
    "\n",
    "    TP = 0\n",
    "    TN = 0\n",
    "    FP = 0\n",
    "    FN = 0\n",
    "\n",
    "    f = open(\"{}/temporalROI.txt\".format(name), \"r\")\n",
    "    line = f.readline()\n",
    "    roi_start, roi_end = line.split()\n",
    "    roi_start = int(roi_start)\n",
    "    roi_end = int(roi_end)\n",
    "    f.close()\n",
    "\n",
    "    I_last = cv2.imread(\"%s/input/in%06d.jpg\" % (name, roi_start))\n",
    "    I_last = cv2.cvtColor(I_last,cv2.COLOR_BGR2GRAY)\n",
    "    print(I_last.shape)\n",
    "    #I_last = I_last.astype(int)\n",
    "\n",
    "    for i in range (roi_start,roi_end, speed):\n",
    "        #Load new frame\n",
    "        I = cv2.imread(\"%s/input/in%06d.jpg\" % (name, i))\n",
    "        I_vis = I\n",
    "        I = cv2.cvtColor(I,cv2.COLOR_BGR2GRAY)\n",
    "        #I = I.astype(int)\n",
    "\n",
    "        I_ref = cv2.imread(\"%s/groundtruth/gt%06d.png\" % (name, i))\n",
    "        I_ref = cv2.cvtColor(I_ref,cv2.COLOR_BGR2GRAY)\n",
    "        cv2.imshow(\"I_ref\",I_ref)\n",
    "\n",
    "        #Image difference\n",
    "        I_diff = cv2.absdiff(I,I_last)\n",
    "        #I_diff = I_diff.astype('uint8')\n",
    "        I_last = I\n",
    "\n",
    "        #Filtration\n",
    "        (T,thresh) = cv2.threshold(I_diff,threshold_value,255,cv2.THRESH_BINARY)\n",
    "        thresh = cv2.erode(thresh, kernel1, iterations=1)\n",
    "        thresh = cv2.dilate(thresh, kernel2, iterations=1)\n",
    "        thresh = cv2.medianBlur(thresh, blur)\n",
    "        \n",
    "        #Index\n",
    "        retval, labels, stats, centroids = cv2.connectedComponentsWithStats(thresh)\n",
    "        labels = np.uint8(labels / retval * 255)\n",
    "\n",
    "        #Rectangle\n",
    "        if(stats.shape[0] > 1):\n",
    "            tab = stats[1: ,4]\n",
    "            pi = np.argmax(tab)\n",
    "            pi = pi + 1\n",
    "            cv2.rectangle(I_vis,(stats[pi,0],stats[pi,1]),(stats[pi,0]+stats[pi,2],stats[pi,1]+stats[pi,3]),(255,0,0),2)\n",
    "            cv2.putText(I_vis, str(stats[pi,4]), (stats[pi,0],stats[pi,1]), cv2.FONT_HERSHEY_SIMPLEX, 0.5, (255,0,0), 2)\n",
    "            cv2.putText(I_vis, str(pi), (int(centroids[pi, 0]),int(centroids[pi, 1])),cv2.FONT_HERSHEY_SIMPLEX, 1, (255,0,0))\n",
    "\n",
    "        TP_M = np.logical_and((thresh == 255),(I_ref == 255))\n",
    "        TP_S = np.sum(TP_M)\n",
    "        TP = TP + TP_S\n",
    "        \n",
    "        FP_M = np.logical_and((thresh == 255),(I_ref == 0))\n",
    "        FP_S = np.sum(FP_M)\n",
    "        FP = FP + FP_S\n",
    "\n",
    "        FN_M = np.logical_and((thresh == 0),(I_ref == 255))\n",
    "        FN_S = np.sum(FN_M)\n",
    "        FN = FN + FN_S\n",
    "\n",
    "        cv2.imshow(\"I\",I_vis)  \n",
    "        cv2.imshow(\"Raw\",thresh)\n",
    "        cv2.waitKey(15)\n",
    "    cv2.destroyAllWindows()\n",
    "\n",
    "    P = TP/(TP+FP)\n",
    "    R = TP/(TP+FN)\n",
    "    F1 = 2*P*R/(P+R)\n",
    "    print(\"P = \", P)\n",
    "    print(\"R = \", R)\n",
    "    print(\"F1 = \", F1)"
   ]
  },
  {
   "cell_type": "code",
   "execution_count": 5,
   "metadata": {},
   "outputs": [
    {
     "name": "stdout",
     "output_type": "stream",
     "text": [
      "(240, 320)\n",
      "P =  0.7926574423480084\n",
      "R =  0.868903047177989\n",
      "F1 =  0.8290308675081424\n"
     ]
    }
   ],
   "source": [
    "zadanie2(\"highway\", 5, 36, 3, 5, 11)"
   ]
  },
  {
   "cell_type": "code",
   "execution_count": 98,
   "metadata": {},
   "outputs": [
    {
     "name": "stdout",
     "output_type": "stream",
     "text": [
      "P =  0.7276996746270489\n",
      "R =  0.3292694148223552\n",
      "F1 =  0.45338931558667206\n"
     ]
    }
   ],
   "source": [
    "zadanie2(\"office\", 5, 3, 5, 7, 15)"
   ]
  },
  {
   "cell_type": "code",
   "execution_count": 9,
   "metadata": {},
   "outputs": [
    {
     "name": "stdout",
     "output_type": "stream",
     "text": [
      "(240, 360)\n",
      "P =  0.44410725074479684\n",
      "R =  0.9572284963739643\n",
      "F1 =  0.6067241440650831\n"
     ]
    }
   ],
   "source": [
    "zadanie2(\"pedestrian\", 5, 16, 3, 4, 11)"
   ]
  }
 ],
 "metadata": {
  "kernelspec": {
   "display_name": "mlvenv",
   "language": "python",
   "name": "python3"
  },
  "language_info": {
   "codemirror_mode": {
    "name": "ipython",
    "version": 3
   },
   "file_extension": ".py",
   "mimetype": "text/x-python",
   "name": "python",
   "nbconvert_exporter": "python",
   "pygments_lexer": "ipython3",
   "version": "3.12.3"
  }
 },
 "nbformat": 4,
 "nbformat_minor": 2
}
