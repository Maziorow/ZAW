{
 "cells": [
  {
   "cell_type": "code",
   "execution_count": 2,
   "metadata": {},
   "outputs": [],
   "source": [
    "import cv2\n",
    "import numpy as np\n",
    "import matplotlib.pyplot as plt\n",
    "from scipy.ndimage import maximum_filter\n",
    "import pm"
   ]
  },
  {
   "cell_type": "code",
   "execution_count": null,
   "metadata": {},
   "outputs": [],
   "source": [
    "path = 'pictures'\n",
    "budynek1 = cv2.imread(path + 'budynek1.jpg')\n",
    "budynek1 = cv2.cvtColor(budynek1, cv2.COLOR_BGR2RGB)\n",
    "budynek2 = cv2.imread(path + 'budynek2.jpg')\n",
    "budynek2 = cv2.cvtColor(budynek2, cv2.COLOR_BGR2RGB)\n",
    "eiffel1 = cv2.imread(path + 'eiffel1.jpg')\n",
    "eiffel1 = cv2.cvtColor(eiffel1, cv2.COLOR_BGR2RGB)\n",
    "eiffel2 = cv2.imread(path + 'eiffel2.jpg')\n",
    "eiffel2 = cv2.cvtColor(eiffel2, cv2.COLOR_BGR2RGB)\n",
    "fontanna_pow = cv2.imread(path + 'fontanna_pow.jpg')\n",
    "fontanna_pow = cv2.cvtColor(fontanna_pow, cv2.COLOR_BGR2RGB)\n",
    "fontanna1 = cv2.imread(path + 'fontanna1.jpg')\n",
    "fontanna1 = cv2.cvtColor(fontanna1, cv2.COLOR_BGR2RGB)\n",
    "fontanna2 = cv2.imread(path + 'fontanna2.jpg')\n",
    "fontanna2 = cv2.cvtColor(fontanna2, cv2.COLOR_BGR2RGB)\n",
    "left_panorama = cv2.imread(path + 'left_panorama.jpg')\n",
    "left_panorama = cv2.cvtColor(left_panorama, cv2.COLOR_BGR2RGB)\n",
    "right_panorama = cv2.imread(path + 'right_panorama.jpg')\n",
    "right_panorama = cv2.cvtColor(right_panorama, cv2.COLOR_BGR2RGB)\n",
    "\n"
   ]
  }
 ],
 "metadata": {
  "kernelspec": {
   "display_name": ".mlvenv",
   "language": "python",
   "name": "python3"
  },
  "language_info": {
   "codemirror_mode": {
    "name": "ipython",
    "version": 3
   },
   "file_extension": ".py",
   "mimetype": "text/x-python",
   "name": "python",
   "nbconvert_exporter": "python",
   "pygments_lexer": "ipython3",
   "version": "3.12.3"
  }
 },
 "nbformat": 4,
 "nbformat_minor": 2
}
