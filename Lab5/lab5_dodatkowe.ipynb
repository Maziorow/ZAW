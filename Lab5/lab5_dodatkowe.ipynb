{
 "cells": [
  {
   "cell_type": "code",
   "execution_count": 1,
   "metadata": {},
   "outputs": [],
   "source": [
    "import cv2\n",
    "import numpy as np\n",
    "import matplotlib.pyplot as plt\n",
    "import os"
   ]
  },
  {
   "cell_type": "markdown",
   "metadata": {},
   "source": [
    "## Zadanie 5"
   ]
  },
  {
   "cell_type": "code",
   "execution_count": null,
   "metadata": {},
   "outputs": [],
   "source": [
    "def census_transform(image, window_size=5):\n",
    "    image = cv2.cvtColor(image, cv2.COLOR_BGR2GRAY)\n",
    "    height, width = image.shape\n",
    "    census = np.zeros((height, width), dtype=np.uint64)\n",
    "    \n",
    "    offset = window_size // 2\n",
    "    \n",
    "    for y in range(offset, height - offset):\n",
    "        for x in range(offset, width - offset):\n",
    "            center = image[y, x]\n",
    "            bit = 0\n",
    "            census_code = 0\n",
    "            \n",
    "            for wy in range(-offset, offset + 1):\n",
    "                for wx in range(-offset, offset + 1):\n",
    "                    if wy == 0 and wx == 0:\n",
    "                        continue\n",
    "                    \n",
    "                    neighbor = image[y + wy, x + wx]\n",
    "                    if neighbor > center:\n",
    "                        census_code |= (1 << bit)\n",
    "                    bit += 1\n",
    "            \n",
    "            census[y, x] = census_code\n",
    "    \n",
    "    return census"
   ]
  },
  {
   "cell_type": "code",
   "execution_count": null,
   "metadata": {},
   "outputs": [],
   "source": [
    "path = \"\"\n",
    "image_dir = path + \"pairs/\"\n",
    "img = cv2.imread(image_dir +\"/right_%02d.png\"%29, 0)\n",
    "census = census_transform(img, 5)"
   ]
  }
 ],
 "metadata": {
  "kernelspec": {
   "display_name": ".mlvenv",
   "language": "python",
   "name": "python3"
  },
  "language_info": {
   "codemirror_mode": {
    "name": "ipython",
    "version": 3
   },
   "file_extension": ".py",
   "mimetype": "text/x-python",
   "name": "python",
   "nbconvert_exporter": "python",
   "pygments_lexer": "ipython3",
   "version": "3.12.3"
  }
 },
 "nbformat": 4,
 "nbformat_minor": 2
}
